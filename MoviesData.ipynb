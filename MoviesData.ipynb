{
 "cells": [
  {
   "cell_type": "code",
   "execution_count": 3,
   "metadata": {},
   "outputs": [],
   "source": [
    "import os\n",
    "import pandas as pd\n",
    "from sqlalchemy import create_engine\n",
    "import pyodbc"
   ]
  },
  {
   "cell_type": "code",
   "execution_count": 5,
   "metadata": {},
   "outputs": [],
   "source": [
    "\n",
    "conn_str = (\n",
    "    'DRIVER={ODBC Driver 17 for SQL Server};'\n",
    "    'SERVER=TATLY-AI-FPT;'  \n",
    "    'DATABASE=movie;'  \n",
    "    'Trusted_Connection=yes;'\n",
    ")\n",
    "\n",
    "# Create connection\n",
    "conn = pyodbc.connect(conn_str)\n",
    "cursor = conn.cursor()\n"
   ]
  },
  {
   "cell_type": "code",
   "execution_count": 10,
   "metadata": {},
   "outputs": [],
   "source": [
    "# Create connection to SQL\n",
    "server_name = 'TATLY-AI-FPT'\n",
    "database_name = 'movie'\n",
    "driver = 'ODBC Driver 17 for SQL Server'"
   ]
  },
  {
   "cell_type": "code",
   "execution_count": 11,
   "metadata": {},
   "outputs": [],
   "source": [
    "# Connection to SQL\n",
    "\n",
    "connection_string = f'mssql://@{server_name}/{database_name}?driver={driver}'\n",
    "engine = create_engine(connection_string)"
   ]
  },
  {
   "cell_type": "code",
   "execution_count": 7,
   "metadata": {},
   "outputs": [],
   "source": [
    "# Đường dẫn đến folder chứa các file CSV\n",
    "folder_path = 'D:/dataTrain/data/MoviesData/code/data'"
   ]
  },
  {
   "cell_type": "code",
   "execution_count": 8,
   "metadata": {},
   "outputs": [],
   "source": [
    "# Lấy danh sách các file CSV trong folder\n",
    "csv_files = [f for f in os.listdir(folder_path) if f.endswith('.csv')]"
   ]
  },
  {
   "cell_type": "code",
   "execution_count": 17,
   "metadata": {},
   "outputs": [
    {
     "name": "stderr",
     "output_type": "stream",
     "text": [
      "Processing files:  25%|██▌       | 1/4 [00:04<00:14,  4.69s/file]"
     ]
    },
    {
     "name": "stdout",
     "output_type": "stream",
     "text": [
      "Data from craw.csv has been saved totable craw.\n"
     ]
    },
    {
     "name": "stderr",
     "output_type": "stream",
     "text": [
      "Processing files:  50%|█████     | 2/4 [00:05<00:03,  1.99s/file]"
     ]
    },
    {
     "name": "stdout",
     "output_type": "stream",
     "text": [
      "Data from keywords.csv has been saved totable keywords.\n"
     ]
    },
    {
     "name": "stderr",
     "output_type": "stream",
     "text": [
      "C:\\Users\\Mr TatLy\\AppData\\Local\\Temp\\ipykernel_26592\\1725379408.py:9: DtypeWarning: Columns (10) have mixed types. Specify dtype option on import or set low_memory=False.\n",
      "  df = pd.read_csv(file_path)\n",
      "Processing files:  75%|███████▌  | 3/4 [00:49<00:26, 26.03s/file]"
     ]
    },
    {
     "name": "stdout",
     "output_type": "stream",
     "text": [
      "Data from moviesinfor.csv has been saved totable moviesinfor.\n"
     ]
    },
    {
     "name": "stderr",
     "output_type": "stream",
     "text": [
      "Processing files: 100%|██████████| 4/4 [30:49<00:00, 462.48s/file]"
     ]
    },
    {
     "name": "stdout",
     "output_type": "stream",
     "text": [
      "Data from ratings.csv has been saved totable ratings.\n",
      "All files have been processed.\n"
     ]
    },
    {
     "name": "stderr",
     "output_type": "stream",
     "text": [
      "\n"
     ]
    }
   ],
   "source": [
    "from tqdm import tqdm\n",
    "\n",
    "# # Iterate through each CSV file and save to SQL :: duyệt qua:: Iterate through\n",
    "\n",
    "for file in tqdm(csv_files, desc=\"Processing files\", unit=\"file\", miniters=1, smoothing=0.5):\n",
    "    file_path = os.path.join(folder_path, file)\n",
    "    \n",
    "    # Read data from CSV\n",
    "    df = pd.read_csv(file_path)\n",
    "    \n",
    "    # Create table with name file (remove the .csv extension)\n",
    "\n",
    "    table_name = os.path.splitext(file)[0]\n",
    "    \n",
    "    # Storage data into SQL Server (If table not exit, it'll be created)\n",
    "    df.to_sql(table_name, engine, if_exists='replace', index=False)\n",
    "    \n",
    "    print(f'Data from {file} has been saved totable {table_name}.')\n",
    "\n",
    "print(\"All files have been processed.\")\n"
   ]
  }
 ],
 "metadata": {
  "kernelspec": {
   "display_name": "Python 3",
   "language": "python",
   "name": "python3"
  },
  "language_info": {
   "codemirror_mode": {
    "name": "ipython",
    "version": 3
   },
   "file_extension": ".py",
   "mimetype": "text/x-python",
   "name": "python",
   "nbconvert_exporter": "python",
   "pygments_lexer": "ipython3",
   "version": "3.12.1"
  }
 },
 "nbformat": 4,
 "nbformat_minor": 2
}
